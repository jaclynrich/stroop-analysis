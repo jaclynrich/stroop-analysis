{
 "cells": [
  {
   "cell_type": "markdown",
   "metadata": {},
   "source": [
    "# Investigating the Stroop Effect"
   ]
  },
  {
   "cell_type": "markdown",
   "metadata": {},
   "source": [
    "This data set includes a sample of 24 people that each completed two sets of tasks.  Two collections of colored words were presented to each person and the number of seconds that it took to name the color ink of each word was recorded.  In one of the sets the color ink matched the written name of the color (congruent) and in the other they did not match (incongruent).\n",
    "\n",
    "<img src=\"example_image.png\">\n",
    "\n",
    "In this experiment, the independent variable is the whether or not the ink of the words are in the color of their name (the condition of being congruent or incongruent).  The dependent variable is the time that the participants take to name the colors of the ink.\n",
    "\n",
    "According to the Stroop Effect, the wrong written colors in the incongruent group of words consitutes interference and should result in increased reaction times for these tasks.  Using the samples provided, I am going to perform a statistical test to determine if the Stroop Effect is displayed in the completion of these tasks.\n",
    "\n",
    "The null hypothesis ($H_0$) is that there there is no difference between the population's mean times to complete the congruent and incongruent tasks, and hence the times to complete both sets of tasks belong to the same population.  The alternative hypothesis ($H_A$) is that the population's mean reaction time for the incongruent tasks will be greater than that for the congruent tasks, and therefore that the differences in the population means are not by chance and that they belong to two different populations.\n",
    "\n",
    "$$H_0:  \\mu_c = \\mu_i$$\n",
    "$$H_A:  \\mu_c < \\mu_i$$\n",
    "\n",
    "Where $\\mu_c$ is the population mean completion time for the congruent task set and $\\mu_i$ is the population mean completion time for the incongruent task set."
   ]
  },
  {
   "cell_type": "code",
   "execution_count": 1,
   "metadata": {
    "collapsed": true,
    "scrolled": false
   },
   "outputs": [],
   "source": [
    "import pandas as pd\n",
    "import numpy as np\n",
    "import matplotlib.pyplot as plt\n",
    "import math\n",
    "import scipy.stats as scst\n",
    "%matplotlib inline"
   ]
  },
  {
   "cell_type": "code",
   "execution_count": 2,
   "metadata": {
    "scrolled": false
   },
   "outputs": [
    {
     "name": "stdout",
     "output_type": "stream",
     "text": [
      "    Congruent  Incongruent\n",
      "0      12.079       19.278\n",
      "1      16.791       18.741\n",
      "2       9.564       21.214\n",
      "3       8.630       15.687\n",
      "4      14.669       22.803\n",
      "5      12.238       20.878\n",
      "6      14.692       24.572\n",
      "7       8.987       17.394\n",
      "8       9.401       20.762\n",
      "9      14.480       26.282\n",
      "10     22.328       24.524\n",
      "11     15.298       18.644\n",
      "12     15.073       17.510\n",
      "13     16.929       20.330\n",
      "14     18.200       35.255\n",
      "15     12.130       22.158\n",
      "16     18.495       25.139\n",
      "17     10.639       20.429\n",
      "18     11.344       17.425\n",
      "19     12.369       34.288\n",
      "20     12.944       23.894\n",
      "21     14.233       17.960\n",
      "22     19.710       22.058\n",
      "23     16.004       21.157\n"
     ]
    }
   ],
   "source": [
    "# Load the data\n",
    "data = pd.read_csv('stroopdata.csv')\n",
    "print(data)"
   ]
  },
  {
   "cell_type": "code",
   "execution_count": 3,
   "metadata": {
    "scrolled": false
   },
   "outputs": [
    {
     "name": "stdout",
     "output_type": "stream",
     "text": [
      "    Congruent  Incongruent  Difference\n",
      "0      12.079       19.278       7.199\n",
      "1      16.791       18.741       1.950\n",
      "2       9.564       21.214      11.650\n",
      "3       8.630       15.687       7.057\n",
      "4      14.669       22.803       8.134\n",
      "5      12.238       20.878       8.640\n",
      "6      14.692       24.572       9.880\n",
      "7       8.987       17.394       8.407\n",
      "8       9.401       20.762      11.361\n",
      "9      14.480       26.282      11.802\n",
      "10     22.328       24.524       2.196\n",
      "11     15.298       18.644       3.346\n",
      "12     15.073       17.510       2.437\n",
      "13     16.929       20.330       3.401\n",
      "14     18.200       35.255      17.055\n",
      "15     12.130       22.158      10.028\n",
      "16     18.495       25.139       6.644\n",
      "17     10.639       20.429       9.790\n",
      "18     11.344       17.425       6.081\n",
      "19     12.369       34.288      21.919\n",
      "20     12.944       23.894      10.950\n",
      "21     14.233       17.960       3.727\n",
      "22     19.710       22.058       2.348\n",
      "23     16.004       21.157       5.153\n"
     ]
    }
   ],
   "source": [
    "# Include a column for the differences in the task times for each participant\n",
    "data['Difference'] = data['Incongruent'] - data['Congruent']\n",
    "print(data)"
   ]
  },
  {
   "cell_type": "markdown",
   "metadata": {},
   "source": [
    "## Explore the data"
   ]
  },
  {
   "cell_type": "code",
   "execution_count": 4,
   "metadata": {
    "scrolled": false
   },
   "outputs": [
    {
     "name": "stdout",
     "output_type": "stream",
     "text": [
      "Sample size: 24\n"
     ]
    }
   ],
   "source": [
    "n = len(data) # sample size\n",
    "print('Sample size: {}'.format(n))"
   ]
  },
  {
   "cell_type": "code",
   "execution_count": 5,
   "metadata": {
    "scrolled": false
   },
   "outputs": [
    {
     "name": "stdout",
     "output_type": "stream",
     "text": [
      "       Congruent  Incongruent  Difference\n",
      "count  24.000000    24.000000   24.000000\n",
      "mean   14.051125    22.015917    7.964792\n",
      "std     3.559358     4.797057    4.864827\n",
      "min     8.630000    15.687000    1.950000\n",
      "25%    11.895250    18.716750    3.645500\n",
      "50%    14.356500    21.017500    7.666500\n",
      "75%    16.200750    24.051500   10.258500\n",
      "max    22.328000    35.255000   21.919000\n"
     ]
    }
   ],
   "source": [
    "stats = data.describe()\n",
    "print(stats)"
   ]
  },
  {
   "cell_type": "code",
   "execution_count": 42,
   "metadata": {
    "scrolled": false
   },
   "outputs": [
    {
     "data": {
      "image/png": "[encoded data removed]",
      "text/plain": [
       "<matplotlib.figure.Figure at 0x12946c7f0>"
      ]
     },
     "metadata": {},
     "output_type": "display_data"
    }
   ],
   "source": [
    "# Histograms of the data\n",
    "\n",
    "fig, (ax1, ax2)  = plt.subplots(2, 1, sharex = True, sharey = True, figsize = (7,7))\n",
    "\n",
    "ax1 = plt.subplot(211)\n",
    "bins = list(range(2, 40, 2))\n",
    "plt.hist(data['Congruent'], bins=bins)\n",
    "plt.setp(ax1.get_xticklabels(), visible=False)\n",
    "plt.setp(ax1.get_yticklabels(), fontsize=13)\n",
    "plt.ylabel('Congruent\\n\\n$\\\\regular_{Frequency}$', fontsize=16)\n",
    "plt.title(\"\\nSeconds to Complete Task Set\\n\", fontsize=20)\n",
    "\n",
    "ax2 = plt.subplot(212, sharex=ax1, sharey=ax1)\n",
    "plt.hist(data['Incongruent'], bins=bins)\n",
    "plt.setp(ax2.get_xticklabels(), fontsize=13)\n",
    "plt.setp(ax2.get_yticklabels(), fontsize=13)\n",
    "plt.ylabel('Incongruent\\n\\n$\\\\regular_{Frequency}$', fontsize=16)\n",
    "plt.subplots_adjust(hspace=0)\n",
    "\n",
    "plt.show()"
   ]
  },
  {
   "cell_type": "code",
   "execution_count": 55,
   "metadata": {},
   "outputs": [
    {
     "data": {
      "image/png": "[encoded data removed]",
      "text/plain": [
       "<matplotlib.figure.Figure at 0x12af02080>"
      ]
     },
     "metadata": {},
     "output_type": "display_data"
    }
   ],
   "source": [
    "## Boxplots of the data\n",
    "\n",
    "plt_data = np.array(data[['Congruent','Incongruent']])\n",
    "\n",
    "fig, ax  = plt.subplots(1, 1, figsize = (11,7))\n",
    "\n",
    "medianprops = dict(linestyle='-', linewidth=2, color='black')\n",
    "bp = plt.boxplot(plt_data, vert=False, patch_artist=True, widths=(0.4, 0.4), \\\n",
    "                 labels=['Congruent','Incongruent'], medianprops=medianprops)\n",
    "\n",
    "plt.grid('on', which='major', axis='x' )\n",
    "plt.grid('off', which='major', axis='y' )\n",
    "x1,x2,y1,y2 = plt.axis()\n",
    "plt.axis((5,40,y1,y2))\n",
    "plt.title('Seconds to Complete Task Set\\n', fontsize=20)\n",
    "plt.setp(ax.get_xticklabels(), fontsize=13)\n",
    "plt.setp(ax.get_yticklabels(), fontsize=14)\n",
    "\n",
    "for element in ['boxes', 'whiskers', 'fliers', 'means', 'medians', 'caps']:\n",
    "    plt.setp(bp[element], color='black')\n",
    "\n",
    "for patch in bp['boxes']:\n",
    "    patch.set(facecolor='lightpink')       \n",
    "\n",
    "plt.subplots_adjust(top=0.7)\n",
    "\n",
    "plt.show()"
   ]
  },
  {
   "cell_type": "markdown",
   "metadata": {},
   "source": [
    "### Summary of Plots\n",
    "Both plots and the summary statistics clearly show that the reaction times for the incongruent set are typically greater than those for the congruent group; all statistics for the incongruent group, including the mean, median, minimum, and maximum, are greater than those of the congruent group.  Almost 75% of the congruent reaction times are faster than the slowest time for the incongruent set.\n",
    "Both the plots show that the data for each group is approximately normally distributed.   The IQR for the congruent data set is slightly smaller than that of the incongruent as evidenced by the smaller sized box in the boxplots.  The incongruent also has two outliers, where the congruent has none.  However apart from these two outliers, the incongruent data set is slightly more closely clustered than the congruent (although they are both very similar in spread)."
   ]
  },
  {
   "cell_type": "markdown",
   "metadata": {},
   "source": [
    "## Statistical Test"
   ]
  },
  {
   "cell_type": "markdown",
   "metadata": {},
   "source": [
    "I will use a one-tailed t-test with dependent samples to determine if there is a statistically significant difference between these the means of these two samples.  I am choosing a t-test as my hypothesis test since in this case we only have samples from which to draw conclusions (i.e. the population parameters are not known) and the samples are also both small.\n",
    "\n",
    "In using the t-test we are assuming that:\n",
    "* the dependent variable is continuous\n",
    "* the independent variable consists of two sets of matching pairs of data\n",
    "* different observations of the dependent variable are independent of each other (i.e. each participant's performance is not affected by the performance of another)\n",
    "* the dependent variable is approximately normally distributed in each group with both having the same variance\n",
    "* there are no significant outliers in the differences group\n",
    "    * Note: there is one outlier in the differences group (as evidenced by the histogram and boxplot below), but I have considered it to not be significant.  This may increase the likelihood that we retain the null hypothesis by increasing the standard deviation of this group."
   ]
  },
  {
   "cell_type": "code",
   "execution_count": null,
   "metadata": {
    "scrolled": true
   },
   "outputs": [],
   "source": [
    "ax1 = plt.subplot(211)\n",
    "plt.hist(data['Difference'])\n",
    "plt.title('Differences in Reaction Times\\n', fontsize=14)\n",
    "plt.axis((0,30,0,8))\n",
    "\n",
    "ax2 = plt.subplot(212, sharex=ax1)\n",
    "plt.boxplot(data['Difference'], labels=[''],vert=False, widths=0.3)\n",
    "x1,x2,y1,y2 = plt.axis()\n",
    "plt.axis((0,30,y1,y2))\n",
    "yticks = ax2.yaxis.get_major_ticks()\n",
    "ax2.yaxis.set_ticks_position('none')\n",
    "\n",
    "plt.show()"
   ]
  },
  {
   "cell_type": "code",
   "execution_count": null,
   "metadata": {
    "scrolled": false
   },
   "outputs": [],
   "source": [
    "mean_diff = stats.loc['mean']['Difference']\n",
    "print('Mean difference: {:.3f}'.format(mean_diff))"
   ]
  },
  {
   "cell_type": "code",
   "execution_count": null,
   "metadata": {
    "scrolled": false
   },
   "outputs": [],
   "source": [
    "df = n - 1\n",
    "print('Degrees of freedom: {}'.format(df))"
   ]
  },
  {
   "cell_type": "code",
   "execution_count": null,
   "metadata": {
    "scrolled": false
   },
   "outputs": [],
   "source": [
    "std_dev = stats.loc['std']['Difference']\n",
    "std_err = std_dev/math.sqrt(n)\n",
    "print('Standard Deviation: {:.3f}'.format(std_dev))\n",
    "print('Standard Error: {:.3f}'.format(std_err))"
   ]
  },
  {
   "cell_type": "code",
   "execution_count": null,
   "metadata": {
    "scrolled": false
   },
   "outputs": [],
   "source": [
    "t_statistic = mean_diff/std_err\n",
    "print('t-statistic: {:0.3f}'.format(t_statistic))"
   ]
  },
  {
   "cell_type": "markdown",
   "metadata": {},
   "source": [
    "The t-critical value for an alpha level of .05 with 23 degrees of freedom is 1.714"
   ]
  },
  {
   "cell_type": "code",
   "execution_count": null,
   "metadata": {
    "scrolled": false
   },
   "outputs": [],
   "source": [
    "p_val = scst.t.sf(t_statistic, df)\n",
    "print('p-value: {:.2E}'.format(p_val))"
   ]
  },
  {
   "cell_type": "markdown",
   "metadata": {},
   "source": [
    "## Conclusions\n",
    "\n",
    "t(23) = 1.714, p = $\\small2.05\\times10^{-8}$, one-tailed\n",
    "\n",
    "Since the t-statistic of 8.02 is greater than the t-critical value of 1.74 and the p-value of $\\small2.05\\times10^{-8}$ is less than the alpha-level of 0.05, we can reject the null hypothesis.  There is a statistically significant difference between the mean completion time for the congruent task set and the mean for the incongruent task set; the incongruent task set has a signficantly greater mean which means that the this data set illustrates the Stroop Effect.   As the Stroop Effect theorizes, the mismatch of ink and word interferes with people's reactions and increases the response time for the incongruent set as compared with the congruent set.\n",
    "\n",
    "A similar experiment could show people two sets of flash cards with pictures and labels, and ask them to say the content of the image.  One set of flash cards could have the label match the picture (e.g. a picture of an apple with the word 'apple' underneath it), and the other set could have them mismatch.  It is likely that the reaction times for the incongruent group in this experiment would also be significantly greater than those for the congruent group."
   ]
  }
 ],
 "metadata": {
  "kernelspec": {
   "display_name": "Python [default]",
   "language": "python",
   "name": "python3"
  },
  "language_info": {
   "codemirror_mode": {
    "name": "ipython",
    "version": 3
   },
   "file_extension": ".py",
   "mimetype": "text/x-python",
   "name": "python",
   "nbconvert_exporter": "python",
   "pygments_lexer": "ipython3",
   "version": "3.6.1"
  }
 },
 "nbformat": 4,
 "nbformat_minor": 2
}
